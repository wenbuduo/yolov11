{
 "cells": [
  {
   "cell_type": "code",
   "id": "initial_id",
   "metadata": {
    "collapsed": true,
    "ExecuteTime": {
     "end_time": "2024-11-01T16:10:50.844329Z",
     "start_time": "2024-11-01T16:10:50.842052Z"
    }
   },
   "source": [
    "import os \n",
    "os.path.dirname('./tests')"
   ],
   "outputs": [
    {
     "data": {
      "text/plain": [
       "'.'"
      ]
     },
     "execution_count": 5,
     "metadata": {},
     "output_type": "execute_result"
    }
   ],
   "execution_count": 5
  },
  {
   "metadata": {},
   "cell_type": "markdown",
   "source": "",
   "id": "8102f4a2159fa509"
  },
  {
   "metadata": {
    "ExecuteTime": {
     "end_time": "2024-11-01T16:30:59.146343Z",
     "start_time": "2024-11-01T16:30:59.143846Z"
    }
   },
   "cell_type": "code",
   "source": [
    "\"\"\"\n",
    "path: ../datasets/hand-keypoints # dataset root dir\n",
    "train: train # train images (relative to 'path') 18776 images\n",
    "val: val \n",
    "\"\"\"\n",
    "def write_yaml(experiment_name, path, catergory):\n",
    "    # 修改这里的代码，以获得catergory\n",
    "    # catergory = ['person', 'cat', 'dog']\n",
    "    with open('./' + experiment_name + '.yaml', 'w') as f:\n",
    "        f.write(f'path: ../datasets/{path}\\n')\n",
    "        f.write(f'train: train/{path}\\n')\n",
    "        f.write(f'val:  val/{path}\\n')\n",
    "        f.write('name: \\n')\n",
    "        for i, label in enumerate(catergory):\n",
    "            f.write(f'  {i}: {label}\\n')\n",
    "label = pd.read_csv('../datasets/hand-keypoints.csv').to_numpy()[:-1]\n",
    "write_yaml('temp', 'nihao', label)"
   ],
   "id": "e9b1bc45f50c6447",
   "outputs": [],
   "execution_count": 12
  },
  {
   "metadata": {},
   "cell_type": "code",
   "outputs": [],
   "execution_count": null,
   "source": "write_yaml('temp', 'nihao')",
   "id": "39102e1328bf6c7"
  }
 ],
 "metadata": {
  "kernelspec": {
   "display_name": "Python 3",
   "language": "python",
   "name": "python3"
  },
  "language_info": {
   "codemirror_mode": {
    "name": "ipython",
    "version": 2
   },
   "file_extension": ".py",
   "mimetype": "text/x-python",
   "name": "python",
   "nbconvert_exporter": "python",
   "pygments_lexer": "ipython2",
   "version": "2.7.6"
  }
 },
 "nbformat": 4,
 "nbformat_minor": 5
}
